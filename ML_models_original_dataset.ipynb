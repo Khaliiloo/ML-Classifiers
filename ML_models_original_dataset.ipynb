{
 "cells": [
  {
   "cell_type": "code",
   "execution_count": 1,
   "id": "e6e5cce0-4895-4759-a3ca-1ad72651ed66",
   "metadata": {},
   "outputs": [
    {
     "name": "stdout",
     "output_type": "stream",
     "text": [
      "Random Forest Classifier Metrics:\n",
      "Accuracy: 0.8292\n",
      "Precision: 0.5094\n",
      "Recall: 0.1311\n",
      "F1 Score: 0.2085\n",
      "\n",
      "Decision Tree Classifier Metrics:\n",
      "Accuracy: 0.7692\n",
      "Precision: 0.3060\n",
      "Recall: 0.2718\n",
      "F1 Score: 0.2879\n"
     ]
    }
   ],
   "source": [
    "\n",
    "import pandas as pd\n",
    "from sklearn.feature_extraction.text import TfidfVectorizer\n",
    "from sklearn.model_selection import train_test_split\n",
    "from sklearn.ensemble import RandomForestClassifier\n",
    "from sklearn.tree import DecisionTreeClassifier\n",
    "from sklearn.metrics import accuracy_score, precision_score, recall_score, f1_score\n",
    "\n",
    "# 1. Read the original data and process it\n",
    "data = pd.read_csv('ardata.csv')\n",
    "\n",
    "# Add a new 'label' column\n",
    "data['label'] = data['Majority_Label'].apply(lambda x: 1 if x == 'Offensive' else 0)\n",
    "\n",
    "# Split the data into training and testing sets\n",
    "train_data, test_data = train_test_split(data, test_size=0.3, random_state=42)\n",
    "\n",
    "# Extract texts and labels\n",
    "train_texts = train_data['Comment'].tolist()\n",
    "train_labels = train_data['label'].tolist()\n",
    "test_texts = test_data['Comment'].tolist()\n",
    "test_labels = test_data['label'].tolist()\n",
    "\n",
    "# 2. Vectorize the text data\n",
    "vectorizer = TfidfVectorizer(max_features=1000)\n",
    "train_vectors = vectorizer.fit_transform(train_texts)\n",
    "test_vectors = vectorizer.transform(test_texts)\n",
    "\n",
    "# 3. Train Random Forest Classifier\n",
    "rf_classifier = RandomForestClassifier(n_estimators=100, random_state=42)\n",
    "rf_classifier.fit(train_vectors, train_labels)\n",
    "\n",
    "# Predictions\n",
    "rf_predictions = rf_classifier.predict(test_vectors)\n",
    "\n",
    "# Evaluation metrics\n",
    "rf_accuracy = accuracy_score(test_labels, rf_predictions)\n",
    "rf_precision = precision_score(test_labels, rf_predictions)\n",
    "rf_recall = recall_score(test_labels, rf_predictions)\n",
    "rf_f1 = f1_score(test_labels, rf_predictions)\n",
    "\n",
    "print(\"Random Forest Classifier Metrics:\")\n",
    "print(f\"Accuracy: {rf_accuracy:.4f}\")\n",
    "print(f\"Precision: {rf_precision:.4f}\")\n",
    "print(f\"Recall: {rf_recall:.4f}\")\n",
    "print(f\"F1 Score: {rf_f1:.4f}\")\n",
    "\n",
    "# 4. Train Decision Tree Classifier\n",
    "dt_classifier = DecisionTreeClassifier(random_state=42)\n",
    "dt_classifier.fit(train_vectors, train_labels)\n",
    "\n",
    "# Predictions\n",
    "dt_predictions = dt_classifier.predict(test_vectors)\n",
    "\n",
    "# Evaluation metrics\n",
    "dt_accuracy = accuracy_score(test_labels, dt_predictions)\n",
    "dt_precision = precision_score(test_labels, dt_predictions)\n",
    "dt_recall = recall_score(test_labels, dt_predictions)\n",
    "dt_f1 = f1_score(test_labels, dt_predictions)\n",
    "\n",
    "print(\"\\nDecision Tree Classifier Metrics:\")\n",
    "print(f\"Accuracy: {dt_accuracy:.4f}\")\n",
    "print(f\"Precision: {dt_precision:.4f}\")\n",
    "print(f\"Recall: {dt_recall:.4f}\")\n",
    "print(f\"F1 Score: {dt_f1:.4f}\")\n"
   ]
  },
  {
   "cell_type": "code",
   "execution_count": null,
   "id": "8441fe16-5432-4a90-adae-ffd156406749",
   "metadata": {},
   "outputs": [],
   "source": []
  }
 ],
 "metadata": {
  "kernelspec": {
   "display_name": "Python 3 (ipykernel)",
   "language": "python",
   "name": "python3"
  },
  "language_info": {
   "codemirror_mode": {
    "name": "ipython",
    "version": 3
   },
   "file_extension": ".py",
   "mimetype": "text/x-python",
   "name": "python",
   "nbconvert_exporter": "python",
   "pygments_lexer": "ipython3",
   "version": "3.11.7"
  }
 },
 "nbformat": 4,
 "nbformat_minor": 5
}
